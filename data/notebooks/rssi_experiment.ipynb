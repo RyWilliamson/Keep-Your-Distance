{
 "metadata": {
  "language_info": {
   "codemirror_mode": {
    "name": "ipython",
    "version": 3
   },
   "file_extension": ".py",
   "mimetype": "text/x-python",
   "name": "python",
   "nbconvert_exporter": "python",
   "pygments_lexer": "ipython3",
   "version": "3.8.5-final"
  },
  "orig_nbformat": 2,
  "kernelspec": {
   "name": "python3",
   "display_name": "Python 3"
  }
 },
 "nbformat": 4,
 "nbformat_minor": 2,
 "cells": [
  {
   "source": [
    "import pandas as pd\n",
    "import numpy as np\n",
    "import seaborn as sns\n",
    "from matplotlib import pyplot as plt\n",
    "%matplotlib inline\n",
    "\n",
    "processed_dir = \"../processed/\"\n",
    "\n",
    "dataset = pd.read_csv(processed_dir + \"rssi_processed.csv\", index_col=0)\n",
    "averages = dataset.mean(axis=0)\n",
    "missing = dataset.isna().mean() * 100\n",
    "print(\"Averages (RSSI Values)\\n\",averages)\n",
    "print(\"\\nMissed Scans (%)\\n\",missing)"
   ],
   "cell_type": "code",
   "metadata": {},
   "execution_count": 53,
   "outputs": [
    {
     "output_type": "stream",
     "name": "stdout",
     "text": [
      "Averages (RSSI Values)\n 0.5m   -73.348000\n1.0m   -81.084337\n1.5m   -85.493976\n2.0m   -90.417671\n2.5m   -92.240964\ndtype: float64\n\nMissed Scans (%)\n 0.5m    0.0\n1.0m    0.4\n1.5m    0.4\n2.0m    0.4\n2.5m    0.4\ndtype: float64\n"
     ]
    }
   ]
  },
  {
   "cell_type": "code",
   "execution_count": null,
   "metadata": {},
   "outputs": [],
   "source": [
    "plt.figure(figsize=(10, 6))\n",
    "# sns.swarmplot(data=dataset, alpha=0.5, split=True)\n",
    "sns.violinplot(data=dataset, orient=\"v\", alpha=1.0).set_title(\"Violinplot of RSSI at Different Distances\")\n",
    "plt.xlabel(\"Distance (m)\")\n",
    "plt.ylabel(\"RSSI Value (Higher Values Stronger)\")"
   ]
  },
  {
   "cell_type": "code",
   "execution_count": null,
   "metadata": {},
   "outputs": [],
   "source": [
    "plt.figure(figsize=(12, 10))\n",
    "melted = dataset.melt(var_name=\"distance\")\n",
    "g = sns.FacetGrid(data=melted, col=\"distance\")\n",
    "g.map(sns.histplot, \"value\", bins=10)\n",
    "\n",
    "plt.subplots_adjust(top=0.8)\n",
    "plt.subplots_adjust(bottom=0)\n",
    "g.fig.suptitle(\"Histograms at Each Distance\")\n",
    "g.set_xlabels(\"RSSI Value (Higher Values Stronger)\")\n",
    "g.set_ylabels(\"Occurrences of RSSI Values\")"
   ]
  },
  {
   "cell_type": "code",
   "execution_count": null,
   "metadata": {},
   "outputs": [],
   "source": [
    "plt.figure(figsize=(10, 6))\n",
    "sns.kdeplot(data=dataset, fill=True).set_title(\"Density Estimation of RSSI Values at Different Distances\")\n",
    "\n",
    "plt.xlabel(\"RSSI Value (Higher Values Stronger)\")\n",
    "plt.ylabel(\"Density Estimation\")"
   ]
  },
  {
   "cell_type": "code",
   "execution_count": 126,
   "metadata": {
    "tags": []
   },
   "outputs": [],
   "source": [
    "def createEstDistance(mPower, avg, environment):\n",
    "    #print(10 ** ( (mPower[\"Measured Power\"] - avg) / (10 * environment) ))\n",
    "    return 0.5 - 10 ** ( (mPower - avg) / (10 * environment) )\n",
    "\n",
    "def createMeasuredPowerFrame(data, averages):\n",
    "    env = 2\n",
    "    powerVals = pd.Series(np.linspace(-100, -50, 51))\n",
    "    powerVals.name = \"Measured Power\"\n",
    "    vals=[powerVals]\n",
    "    for avg in averages.iteritems():\n",
    "        series = powerVals.apply(lambda val: createEstDistance(val, avg[1], env) )\n",
    "        series.name=avg[0]\n",
    "        vals.append(series)\n",
    "    return pd.concat(vals, axis=1).set_index(\"Measured Power\")\n",
    "\n",
    "measuredPowers = createMeasuredPowerFrame(dataset, averages)"
   ]
  },
  {
   "cell_type": "code",
   "execution_count": null,
   "metadata": {},
   "outputs": [],
   "source": []
  }
 ]
}